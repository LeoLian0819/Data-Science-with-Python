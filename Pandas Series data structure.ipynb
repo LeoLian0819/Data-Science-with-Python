{
 "cells": [
  {
   "cell_type": "code",
   "execution_count": 1,
   "metadata": {},
   "outputs": [],
   "source": [
    "# This code is used to learn basics of Series \n",
    "# data type in pandas module.\n",
    "\n",
    "import pandas as pd"
   ]
  },
  {
   "cell_type": "code",
   "execution_count": 2,
   "metadata": {},
   "outputs": [
    {
     "data": {
      "text/plain": [
       "0             blueCat\n",
       "1          rainbowCat\n",
       "2            snailCat\n",
       "3            strayCat\n",
       "4    nobodylovesmeCat\n",
       "dtype: object"
      ]
     },
     "execution_count": 2,
     "metadata": {},
     "output_type": "execute_result"
    }
   ],
   "source": [
    "# list of strings will be considered as 'object' data type in Series\n",
    "cats = ['blueCat','rainbowCat','snailCat','strayCat','nobodylovesmeCat']\n",
    "pd.Series(cats)"
   ]
  },
  {
   "cell_type": "code",
   "execution_count": 3,
   "metadata": {},
   "outputs": [
    {
     "data": {
      "text/plain": [
       "0    1\n",
       "1    5\n",
       "2    7\n",
       "dtype: int64"
      ]
     },
     "execution_count": 3,
     "metadata": {},
     "output_type": "execute_result"
    }
   ],
   "source": [
    "# List of integers in Series\n",
    "nums_list = [1,5,7]\n",
    "pd.Series(nums_list)"
   ]
  },
  {
   "cell_type": "code",
   "execution_count": 4,
   "metadata": {},
   "outputs": [
    {
     "data": {
      "text/plain": [
       "0    1.0\n",
       "1    3.0\n",
       "2    5.4\n",
       "dtype: float64"
      ]
     },
     "execution_count": 4,
     "metadata": {},
     "output_type": "execute_result"
    }
   ],
   "source": [
    "# List of float in Series\n",
    "float_list = [1.0, 3.0, 5.4]\n",
    "pd.Series(float_list)"
   ]
  },
  {
   "cell_type": "code",
   "execution_count": 5,
   "metadata": {},
   "outputs": [
    {
     "data": {
      "text/plain": [
       "0                 1\n",
       "1                 5\n",
       "2              None\n",
       "3    StringInSeries\n",
       "dtype: object"
      ]
     },
     "execution_count": 5,
     "metadata": {},
     "output_type": "execute_result"
    }
   ],
   "source": [
    "# List of combination of integer, float, string and None\n",
    "item_list = [1.0, 5, None, 'StringInSeries']\n",
    "pd.Series(item_list)"
   ]
  },
  {
   "cell_type": "code",
   "execution_count": 6,
   "metadata": {},
   "outputs": [
    {
     "data": {
      "text/plain": [
       "0    1.0\n",
       "1    2.0\n",
       "2    3.4\n",
       "3    NaN\n",
       "dtype: float64"
      ]
     },
     "execution_count": 6,
     "metadata": {},
     "output_type": "execute_result"
    }
   ],
   "source": [
    "# None in list of numbers (int and float) will be stored as NaN\n",
    "nums_list = [1.0, 2.0, 3.4, None]\n",
    "pd.Series(nums_list)"
   ]
  },
  {
   "cell_type": "markdown",
   "metadata": {},
   "source": [
    "### Note the difference between NaN and None\n",
    "None is an object type and NaN is treated like a number. The name gives away the datatype as well, since NaN stands for Not A Number."
   ]
  },
  {
   "cell_type": "markdown",
   "metadata": {},
   "source": [
    "### Assign Index/Keys to Series\n"
   ]
  },
  {
   "cell_type": "code",
   "execution_count": 8,
   "metadata": {
    "scrolled": true
   },
   "outputs": [
    {
     "data": {
      "text/plain": [
       "Index(['Leo', 'Victoria', 'Will'], dtype='object')"
      ]
     },
     "execution_count": 8,
     "metadata": {},
     "output_type": "execute_result"
    }
   ],
   "source": [
    "# Convert dictionary to Series\n",
    "studentMajor = {'Leo': 'Mechanical Engineer', 'Victoria': 'Marketing', 'Will': 'Chemistry'}\n",
    "majorSeries = pd.Series(studentMajor)\n",
    "majorSeries.index"
   ]
  },
  {
   "cell_type": "code",
   "execution_count": 11,
   "metadata": {},
   "outputs": [
    {
     "data": {
      "text/plain": [
       "Leo         Engineering\n",
       "Victoria      Marketing\n",
       "Finn               None\n",
       "Fong                 CS\n",
       "Will          Chemistry\n",
       "dtype: object"
      ]
     },
     "execution_count": 11,
     "metadata": {},
     "output_type": "execute_result"
    }
   ],
   "source": [
    "# Index and Values can be parsed separately into Series\n",
    "studentName = ['Leo', 'Victoria', 'Finn', 'Fong', 'Will']\n",
    "majors = ['Engineering', 'Marketing', None, 'CS', 'Chemistry']\n",
    "student_majors = pd.Series(majors, index = studentName)\n",
    "student_majors"
   ]
  },
  {
   "cell_type": "code",
   "execution_count": 12,
   "metadata": {},
   "outputs": [
    {
     "data": {
      "text/plain": [
       "Leo         Mechanical Engineer\n",
       "Victoria              Marketing\n",
       "Finn                        NaN\n",
       "dtype: object"
      ]
     },
     "execution_count": 12,
     "metadata": {},
     "output_type": "execute_result"
    }
   ],
   "source": [
    "# When creating series from a dictionary, one can selectively\n",
    "# import keys and corresponding values to Series\n",
    "myfamily = pd.Series(studentMajor, index = studentName[:3])\n",
    "myfamily"
   ]
  },
  {
   "cell_type": "markdown",
   "metadata": {},
   "source": [
    "### Querying a Series"
   ]
  },
  {
   "cell_type": "code",
   "execution_count": 16,
   "metadata": {},
   "outputs": [
    {
     "data": {
      "text/plain": [
       "'CS'"
      ]
     },
     "execution_count": 16,
     "metadata": {},
     "output_type": "execute_result"
    }
   ],
   "source": [
    "student_majors.iloc[3] # iloc for values\n",
    "#student_majors[3] # this is the same as iloc\n",
    "#student_majors.loc['Leo'] # loc for keys\n"
   ]
  },
  {
   "cell_type": "code",
   "execution_count": null,
   "metadata": {},
   "outputs": [],
   "source": []
  }
 ],
 "metadata": {
  "kernelspec": {
   "display_name": "Python 3",
   "language": "python",
   "name": "python3"
  },
  "language_info": {
   "codemirror_mode": {
    "name": "ipython",
    "version": 3
   },
   "file_extension": ".py",
   "mimetype": "text/x-python",
   "name": "python",
   "nbconvert_exporter": "python",
   "pygments_lexer": "ipython3",
   "version": "3.8.3"
  }
 },
 "nbformat": 4,
 "nbformat_minor": 4
}
