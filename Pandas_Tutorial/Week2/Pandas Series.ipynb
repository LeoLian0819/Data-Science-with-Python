{
 "cells": [
  {
   "cell_type": "code",
   "execution_count": 1,
   "metadata": {},
   "outputs": [],
   "source": [
    "# This code is used to learn basics of Series \n",
    "# data type in pandas module.\n",
    "\n",
    "import pandas as pd"
   ]
  },
  {
   "cell_type": "code",
   "execution_count": 2,
   "metadata": {},
   "outputs": [
    {
     "data": {
      "text/plain": [
       "0             blueCat\n",
       "1          rainbowCat\n",
       "2            snailCat\n",
       "3            strayCat\n",
       "4    nobodylovesmeCat\n",
       "dtype: object"
      ]
     },
     "execution_count": 2,
     "metadata": {},
     "output_type": "execute_result"
    }
   ],
   "source": [
    "# list of strings will be considered as 'object' data type in Series\n",
    "cats = ['blueCat','rainbowCat','snailCat','strayCat','nobodylovesmeCat']\n",
    "pd.Series(cats)"
   ]
  },
  {
   "cell_type": "code",
   "execution_count": 3,
   "metadata": {},
   "outputs": [
    {
     "data": {
      "text/plain": [
       "0    1\n",
       "1    5\n",
       "2    7\n",
       "dtype: int64"
      ]
     },
     "execution_count": 3,
     "metadata": {},
     "output_type": "execute_result"
    }
   ],
   "source": [
    "# List of integers in Series\n",
    "nums_list = [1,5,7]\n",
    "pd.Series(nums_list)"
   ]
  },
  {
   "cell_type": "code",
   "execution_count": 4,
   "metadata": {},
   "outputs": [
    {
     "data": {
      "text/plain": [
       "0    1.0\n",
       "1    3.0\n",
       "2    5.4\n",
       "dtype: float64"
      ]
     },
     "execution_count": 4,
     "metadata": {},
     "output_type": "execute_result"
    }
   ],
   "source": [
    "# List of float in Series\n",
    "float_list = [1.0, 3.0, 5.4]\n",
    "pd.Series(float_list)"
   ]
  },
  {
   "cell_type": "code",
   "execution_count": 5,
   "metadata": {},
   "outputs": [
    {
     "data": {
      "text/plain": [
       "0                 1\n",
       "1                 5\n",
       "2              None\n",
       "3    StringInSeries\n",
       "dtype: object"
      ]
     },
     "execution_count": 5,
     "metadata": {},
     "output_type": "execute_result"
    }
   ],
   "source": [
    "# List of combination of integer, float, string and None\n",
    "item_list = [1.0, 5, None, 'StringInSeries']\n",
    "pd.Series(item_list)"
   ]
  },
  {
   "cell_type": "code",
   "execution_count": 6,
   "metadata": {},
   "outputs": [
    {
     "data": {
      "text/plain": [
       "0    1.0\n",
       "1    2.0\n",
       "2    3.4\n",
       "3    NaN\n",
       "dtype: float64"
      ]
     },
     "execution_count": 6,
     "metadata": {},
     "output_type": "execute_result"
    }
   ],
   "source": [
    "# None in list of numbers (int and float) will be stored as NaN\n",
    "nums_list = [1.0, 2.0, 3.4, None]\n",
    "pd.Series(nums_list)"
   ]
  },
  {
   "cell_type": "markdown",
   "metadata": {},
   "source": [
    "### Note the difference between NaN and None\n",
    "None is an object type and NaN is treated like a number. The name gives away the datatype as well, since NaN stands for Not A Number."
   ]
  },
  {
   "cell_type": "markdown",
   "metadata": {},
   "source": [
    "### Assign Index/Keys to Series\n"
   ]
  },
  {
   "cell_type": "code",
   "execution_count": 7,
   "metadata": {
    "scrolled": true
   },
   "outputs": [
    {
     "data": {
      "text/plain": [
       "Index(['Leo', 'Victoria', 'Will'], dtype='object')"
      ]
     },
     "execution_count": 7,
     "metadata": {},
     "output_type": "execute_result"
    }
   ],
   "source": [
    "# Convert dictionary to Series\n",
    "studentMajor = {'Leo': 'Mechanical Engineer', 'Victoria': 'Marketing', 'Will': 'Chemistry'}\n",
    "majorSeries = pd.Series(studentMajor)\n",
    "majorSeries.index"
   ]
  },
  {
   "cell_type": "code",
   "execution_count": 8,
   "metadata": {},
   "outputs": [
    {
     "data": {
      "text/plain": [
       "Leo         Engineering\n",
       "Victoria      Marketing\n",
       "Finn               None\n",
       "Fong                 CS\n",
       "Will          Chemistry\n",
       "dtype: object"
      ]
     },
     "execution_count": 8,
     "metadata": {},
     "output_type": "execute_result"
    }
   ],
   "source": [
    "# Index and Values can be parsed separately into Series\n",
    "studentName = ['Leo', 'Victoria', 'Finn', 'Fong', 'Will']\n",
    "majors = ['Engineering', 'Marketing', None, 'CS', 'Chemistry']\n",
    "student_majors = pd.Series(majors, index = studentName)\n",
    "student_majors"
   ]
  },
  {
   "cell_type": "code",
   "execution_count": 9,
   "metadata": {},
   "outputs": [
    {
     "data": {
      "text/plain": [
       "Leo         Mechanical Engineer\n",
       "Victoria              Marketing\n",
       "Finn                        NaN\n",
       "dtype: object"
      ]
     },
     "execution_count": 9,
     "metadata": {},
     "output_type": "execute_result"
    }
   ],
   "source": [
    "# When creating series from a dictionary, one can selectively\n",
    "# import keys and corresponding values to Series\n",
    "# If the given index is not in the given dictionary, \n",
    "# NaN will be assigned to its value in Series.\n",
    "myfamily = pd.Series(studentMajor, index = studentName[:3])\n",
    "myfamily"
   ]
  },
  {
   "cell_type": "markdown",
   "metadata": {},
   "source": [
    "### Querying a Series"
   ]
  },
  {
   "cell_type": "code",
   "execution_count": 10,
   "metadata": {},
   "outputs": [
    {
     "name": "stdout",
     "output_type": "stream",
     "text": [
      "CS\n",
      "Engineering\n"
     ]
    }
   ],
   "source": [
    "print(student_majors.iloc[3]) # iloc for values\n",
    "\n",
    "print(student_majors.loc['Leo']) # loc for keys\n"
   ]
  },
  {
   "cell_type": "code",
   "execution_count": 16,
   "metadata": {},
   "outputs": [
    {
     "name": "stdout",
     "output_type": "stream",
     "text": [
      "CS\n"
     ]
    }
   ],
   "source": [
    "# this is the same as iloc but could be ambiguous \n",
    "# when the indexes/labels/values have the same name\n",
    "print(student_majors[3]) \n",
    "s = {100: 'China', 101: 'USA', 102: 'Japan'}\n",
    "# s[0] # This will raise an error\n",
    "s = {'China': 3, 'USA': 2, 'Japan': 1}\n",
    "# s[2] # This will also raise an error"
   ]
  },
  {
   "cell_type": "markdown",
   "metadata": {},
   "source": [
    "### Summary:\n",
    "    Basically use iloc/loc instead of ambiguous index. "
   ]
  },
  {
   "cell_type": "markdown",
   "metadata": {},
   "source": [
    "### Math operations"
   ]
  },
  {
   "cell_type": "code",
   "execution_count": 18,
   "metadata": {},
   "outputs": [
    {
     "data": {
      "text/plain": [
       "0    317\n",
       "1    232\n",
       "2    272\n",
       "3    624\n",
       "4    365\n",
       "dtype: int32"
      ]
     },
     "execution_count": 18,
     "metadata": {},
     "output_type": "execute_result"
    }
   ],
   "source": [
    "import numpy as np\n",
    "s = pd.Series(np.random.randint(0,1000,10000))\n",
    "s.head() # Use head() method to display the first n elements (default n=5)"
   ]
  },
  {
   "cell_type": "code",
   "execution_count": 19,
   "metadata": {},
   "outputs": [
    {
     "data": {
      "text/plain": [
       "10000"
      ]
     },
     "execution_count": 19,
     "metadata": {},
     "output_type": "execute_result"
    }
   ],
   "source": [
    "len(s) # len() works on Series too"
   ]
  },
  {
   "cell_type": "code",
   "execution_count": 20,
   "metadata": {},
   "outputs": [
    {
     "name": "stdout",
     "output_type": "stream",
     "text": [
      "919 µs ± 19.8 µs per loop (mean ± std. dev. of 7 runs, 100 loops each)\n"
     ]
    }
   ],
   "source": [
    "%%timeit -n 100\n",
    "# Here we use Jupyter Notebook's magic function timeit to see the computation time\n",
    "s_sum = 0\n",
    "for item in s:\n",
    "    s_sum += item\n",
    "    "
   ]
  },
  {
   "cell_type": "code",
   "execution_count": 21,
   "metadata": {},
   "outputs": [
    {
     "name": "stdout",
     "output_type": "stream",
     "text": [
      "62 µs ± 3.56 µs per loop (mean ± std. dev. of 7 runs, 100 loops each)\n"
     ]
    }
   ],
   "source": [
    "%%timeit -n 100\n",
    "s_sum = np.sum(s) # This will be much faster than iterating every item"
   ]
  },
  {
   "cell_type": "code",
   "execution_count": 24,
   "metadata": {},
   "outputs": [
    {
     "data": {
      "text/plain": [
       "0    323\n",
       "1    238\n",
       "2    278\n",
       "3    630\n",
       "4    371\n",
       "dtype: int32"
      ]
     },
     "execution_count": 24,
     "metadata": {},
     "output_type": "execute_result"
    }
   ],
   "source": [
    "# Broadcast feature of Pandas and NumPy\n",
    "s += 2 # This will perform on every item in s\n",
    "s.head()\n",
    "# A for loop can do this but slower"
   ]
  },
  {
   "cell_type": "code",
   "execution_count": 35,
   "metadata": {},
   "outputs": [
    {
     "name": "stdout",
     "output_type": "stream",
     "text": [
      "Germany        BMW\n",
      "France     Renault\n",
      "USA           Ford\n",
      "Italy      Ferrari\n",
      "Japan       Toyota\n",
      "dtype: object\n",
      "Germany             BMW\n",
      "France          Renault\n",
      "USA                Ford\n",
      "Italy           Ferrari\n",
      "Japan            Toyota\n",
      "China            Hongqi\n",
      "Korea               Kia\n",
      "England    Aston Martin\n",
      "dtype: object\n"
     ]
    }
   ],
   "source": [
    "# One can add items to Series easily using loc() method\n",
    "s = pd.Series({'Germany': 'BMW', 'France': 'Renault', 'USA': 'Ford', 'Italy': 'Ferrari'})\n",
    "s.loc['Japan'] = 'Toyota' # This makes changes to the original Series\n",
    "print(s)\n",
    "\n",
    "# Using append() can combine Series without changing the original Series\n",
    "other_cars = pd.Series({'China': 'Hongqi', 'Korea': 'Kia', 'England': 'Aston Martin'})\n",
    "s_new = s.append(other_cars)\n",
    "print(s_new)"
   ]
  },
  {
   "cell_type": "code",
   "execution_count": null,
   "metadata": {},
   "outputs": [],
   "source": []
  }
 ],
 "metadata": {
  "kernelspec": {
   "display_name": "Python 3",
   "language": "python",
   "name": "python3"
  },
  "language_info": {
   "codemirror_mode": {
    "name": "ipython",
    "version": 3
   },
   "file_extension": ".py",
   "mimetype": "text/x-python",
   "name": "python",
   "nbconvert_exporter": "python",
   "pygments_lexer": "ipython3",
   "version": "3.7.7"
  }
 },
 "nbformat": 4,
 "nbformat_minor": 4
}
